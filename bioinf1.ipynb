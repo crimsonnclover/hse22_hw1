{
  "nbformat": 4,
  "nbformat_minor": 0,
  "metadata": {
    "colab": {
      "provenance": [],
      "authorship_tag": "ABX9TyMwXufM3HcrACbJMPeDslQk",
      "include_colab_link": true
    },
    "kernelspec": {
      "name": "python3",
      "display_name": "Python 3"
    },
    "language_info": {
      "name": "python"
    }
  },
  "cells": [
    {
      "cell_type": "markdown",
      "metadata": {
        "id": "view-in-github",
        "colab_type": "text"
      },
      "source": [
        "<a href=\"https://colab.research.google.com/github/crimsonnclover/hse22_hw1/blob/main/bioinf1.ipynb\" target=\"_parent\"><img src=\"https://colab.research.google.com/assets/colab-badge.svg\" alt=\"Open In Colab\"/></a>"
      ]
    },
    {
      "cell_type": "code",
      "source": [
        "import numpy as np"
      ],
      "metadata": {
        "id": "R_gpzIKv6kl7"
      },
      "execution_count": 3,
      "outputs": []
    },
    {
      "cell_type": "markdown",
      "source": [
        "\n",
        "# Анализ контигов"
      ],
      "metadata": {
        "id": "2OLhqJoN5a9D"
      }
    },
    {
      "cell_type": "markdown",
      "source": [
        "Общее количество контигов"
      ],
      "metadata": {
        "id": "HnjIkaUm6Ert"
      }
    },
    {
      "cell_type": "code",
      "source": [
        "! grep -c '>' Poil_contig.fa"
      ],
      "metadata": {
        "colab": {
          "base_uri": "https://localhost:8080/"
        },
        "id": "zQA694-q4zzj",
        "outputId": "7adc6e37-1b51-46b2-fc77-82dcc8d86ba2"
      },
      "execution_count": 2,
      "outputs": [
        {
          "output_type": "stream",
          "name": "stdout",
          "text": [
            "620\n"
          ]
        }
      ]
    },
    {
      "cell_type": "markdown",
      "source": [
        "Общая длина контигов"
      ],
      "metadata": {
        "id": "aaQW1SKA6wlD"
      }
    },
    {
      "cell_type": "code",
      "source": [
        "! grep 'len' Poil_contig.fa >> len.txt"
      ],
      "metadata": {
        "id": "4L5-6Jn-60SL"
      },
      "execution_count": 4,
      "outputs": []
    },
    {
      "cell_type": "code",
      "source": [
        "len_list = []\n",
        "with open('len.txt') as f:\n",
        "    len_list = f.read().splitlines()"
      ],
      "metadata": {
        "id": "ZsWgze7B7sIs"
      },
      "execution_count": 5,
      "outputs": []
    },
    {
      "cell_type": "code",
      "source": [
        "len_lst_int = []\n",
        "for i in range(len(len_list)):\n",
        "  len_lst_int.append((int)(len_list[i].split('_')[1][3:]))\n",
        "len_lst_np = np.array(len_lst_int)\n",
        "len_lst_np.sum()"
      ],
      "metadata": {
        "colab": {
          "base_uri": "https://localhost:8080/"
        },
        "id": "yssxgAne7urL",
        "outputId": "7aecf6ed-f59c-4935-d2a9-57b5ca3afba7"
      },
      "execution_count": 6,
      "outputs": [
        {
          "output_type": "execute_result",
          "data": {
            "text/plain": [
              "3926005"
            ]
          },
          "metadata": {},
          "execution_count": 6
        }
      ]
    },
    {
      "cell_type": "markdown",
      "source": [
        "Самый длинный контиг"
      ],
      "metadata": {
        "id": "-9qcvK1E7zil"
      }
    },
    {
      "cell_type": "code",
      "source": [
        "len_lst_np.max()"
      ],
      "metadata": {
        "colab": {
          "base_uri": "https://localhost:8080/"
        },
        "id": "arHERbo673FV",
        "outputId": "47075a40-d122-4e51-bde0-0cf236668355"
      },
      "execution_count": 7,
      "outputs": [
        {
          "output_type": "execute_result",
          "data": {
            "text/plain": [
              "179307"
            ]
          },
          "metadata": {},
          "execution_count": 7
        }
      ]
    },
    {
      "cell_type": "markdown",
      "source": [
        "N50"
      ],
      "metadata": {
        "id": "xsuieztc752I"
      }
    },
    {
      "cell_type": "code",
      "source": [
        "len_lst_np = np.sort(len_lst_np)[::-1]"
      ],
      "metadata": {
        "id": "iIZaOsu377Fn"
      },
      "execution_count": 8,
      "outputs": []
    },
    {
      "cell_type": "code",
      "source": [
        "i = 1\n",
        "while sum(len_lst_np[:i]) < 0.5 * sum(len_lst_np):\n",
        "  i += 1\n",
        "\n",
        "len_lst_np[i-1]"
      ],
      "metadata": {
        "colab": {
          "base_uri": "https://localhost:8080/"
        },
        "id": "41lKYW-U7_mZ",
        "outputId": "a3c5d7cc-9486-4cab-85aa-b2cfca81ebbb"
      },
      "execution_count": 9,
      "outputs": [
        {
          "output_type": "execute_result",
          "data": {
            "text/plain": [
              "47993"
            ]
          },
          "metadata": {},
          "execution_count": 9
        }
      ]
    },
    {
      "cell_type": "markdown",
      "source": [
        "# Анализ скаффолдов"
      ],
      "metadata": {
        "id": "E1lodQhu8DtC"
      }
    },
    {
      "cell_type": "markdown",
      "source": [
        "Общее количество "
      ],
      "metadata": {
        "id": "tVqlAXGi8I4M"
      }
    },
    {
      "cell_type": "code",
      "source": [
        "! grep -c '>' Poil_scaffold.fa"
      ],
      "metadata": {
        "colab": {
          "base_uri": "https://localhost:8080/"
        },
        "id": "-qWfhrOP-Y-x",
        "outputId": "c9f22ad4-165e-4778-cc5f-ec2898d773d8"
      },
      "execution_count": 12,
      "outputs": [
        {
          "output_type": "stream",
          "name": "stdout",
          "text": [
            "69\n"
          ]
        }
      ]
    },
    {
      "cell_type": "markdown",
      "source": [
        "Общая длина"
      ],
      "metadata": {
        "id": "tfAKj6lJ_aVI"
      }
    },
    {
      "cell_type": "code",
      "source": [
        "! grep 'len' Poil_scaffold.fa >> len2.txt"
      ],
      "metadata": {
        "id": "oIZLGe3I_bbx"
      },
      "execution_count": 13,
      "outputs": []
    },
    {
      "cell_type": "code",
      "source": [
        "len_list2 = []\n",
        "with open('len2.txt') as f:\n",
        "    len_list2 = f.read().splitlines()"
      ],
      "metadata": {
        "id": "H9VlGDHb_iBQ"
      },
      "execution_count": 14,
      "outputs": []
    },
    {
      "cell_type": "code",
      "source": [
        "len_lst_int2 = []\n",
        "for i in range(len(len_list2)):\n",
        "  len_lst_int2.append((int)(len_list2[i].split('_')[1][3:]))\n",
        "len_lst_np2 = np.array(len_lst_int2)\n",
        "len_lst_np2.sum()"
      ],
      "metadata": {
        "colab": {
          "base_uri": "https://localhost:8080/"
        },
        "id": "0WaczCDe_jG2",
        "outputId": "32a1076c-801f-4bea-cb71-e083084fda6a"
      },
      "execution_count": 15,
      "outputs": [
        {
          "output_type": "execute_result",
          "data": {
            "text/plain": [
              "3873757"
            ]
          },
          "metadata": {},
          "execution_count": 15
        }
      ]
    },
    {
      "cell_type": "markdown",
      "source": [
        "Самый длинный"
      ],
      "metadata": {
        "id": "IUppo2oX_mc-"
      }
    },
    {
      "cell_type": "code",
      "source": [
        "len_lst_np2.max()"
      ],
      "metadata": {
        "colab": {
          "base_uri": "https://localhost:8080/"
        },
        "id": "rX6G8IHu_pEU",
        "outputId": "22e51f83-fb1e-42c5-e48e-0234f2ab171f"
      },
      "execution_count": 16,
      "outputs": [
        {
          "output_type": "execute_result",
          "data": {
            "text/plain": [
              "3836081"
            ]
          },
          "metadata": {},
          "execution_count": 16
        }
      ]
    },
    {
      "cell_type": "markdown",
      "source": [
        "N50"
      ],
      "metadata": {
        "id": "6OebUGq9_r-N"
      }
    },
    {
      "cell_type": "code",
      "source": [
        "len_lst_np2 = np.sort(len_lst_np2)[::-1]"
      ],
      "metadata": {
        "id": "bi3FdSLF_tEW"
      },
      "execution_count": 17,
      "outputs": []
    },
    {
      "cell_type": "code",
      "source": [
        "i = 1\n",
        "while sum(len_lst_np2[:i]) < 0.5 * sum(len_lst_np2):\n",
        "  i += 1\n",
        "len_lst_np2[i-1]"
      ],
      "metadata": {
        "colab": {
          "base_uri": "https://localhost:8080/"
        },
        "id": "2l9CdSoN_uvr",
        "outputId": "d52fed70-9e9d-42cd-868e-0f716585328b"
      },
      "execution_count": 18,
      "outputs": [
        {
          "output_type": "execute_result",
          "data": {
            "text/plain": [
              "3836081"
            ]
          },
          "metadata": {},
          "execution_count": 18
        }
      ]
    }
  ]
}